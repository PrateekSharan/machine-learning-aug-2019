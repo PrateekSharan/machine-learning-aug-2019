{
 "cells": [
  {
   "cell_type": "code",
   "execution_count": 1,
   "metadata": {},
   "outputs": [],
   "source": [
    "import numpy as np\n",
    "import matplotlib.pyplot as plt\n",
    "from helper import *"
   ]
  },
  {
   "cell_type": "code",
   "execution_count": 97,
   "metadata": {},
   "outputs": [
    {
     "name": "stdout",
     "output_type": "stream",
     "text": [
      "(4, 2) (4,)\n"
     ]
    }
   ],
   "source": [
    "X,Y = load_dataset('xor')\n",
    "print(X.shape,Y.shape)"
   ]
  },
  {
   "cell_type": "code",
   "execution_count": 98,
   "metadata": {},
   "outputs": [
    {
     "data": {
      "image/png": "[encoded data removed]",
      "text/plain": [
       "<Figure size 576x396 with 1 Axes>"
      ]
     },
     "metadata": {},
     "output_type": "display_data"
    }
   ],
   "source": [
    "plt.scatter(X[:,0],X[:,1],c=Y,cmap=plt.cm.autumn)\n",
    "plt.show()"
   ]
  },
  {
   "cell_type": "code",
   "execution_count": 99,
   "metadata": {},
   "outputs": [],
   "source": [
    "# Model Details\n",
    "input_size = 2\n",
    "layers = [4,3] #Hidden Layers\n",
    "output_size = 2\n",
    "# 2 --> 4 --> 3 ---> 2 classes"
   ]
  },
  {
   "cell_type": "code",
   "execution_count": 100,
   "metadata": {},
   "outputs": [],
   "source": [
    "def softmax(a):\n",
    "    ea = np.exp(a)\n",
    "    return ea/np.sum(ea,axis=1,keepdims=True)"
   ]
  },
  {
   "cell_type": "code",
   "execution_count": 101,
   "metadata": {},
   "outputs": [
    {
     "data": {
      "text/plain": [
       "array([[3.33333333e-01, 3.33333333e-01, 3.33333333e-01],\n",
       "       [4.53958078e-05, 4.53958078e-05, 9.99909208e-01]])"
      ]
     },
     "execution_count": 101,
     "metadata": {},
     "output_type": "execute_result"
    }
   ],
   "source": [
    "softmax([[10,10,10],\n",
    "         [10,10,20]])"
   ]
  },
  {
   "cell_type": "code",
   "execution_count": 118,
   "metadata": {},
   "outputs": [],
   "source": [
    "class NeuralNetwork:\n",
    "    def __init__(self,input_size,l,output_size):\n",
    "        np.random.seed(0)\n",
    "        model = {}\n",
    "        model['W1']  = np.random.randn(input_size,l[0])\n",
    "        model['b1'] = np.zeros((1,l[0]))\n",
    "        \n",
    "        model['W2']  = np.random.randn(l[0],l[1])\n",
    "        model['b2'] = np.zeros((1,l[1]))\n",
    "        \n",
    "        model['W3']  = np.random.randn(l[1],output_size)\n",
    "        model['b3'] = np.zeros((1,output_size))\n",
    "        self.model = model\n",
    "        \n",
    "    def forward(self,x):\n",
    "        W1,W2,W3 = self.model['W1'],self.model['W2'],self.model['W3']\n",
    "        b1,b2,b3 = self.model['b1'],self.model['b2'],self.model['b3']\n",
    "        \n",
    "        z1 = np.dot(x,W1) + b1\n",
    "        a1 = np.tanh(z1)\n",
    "        \n",
    "        z2 = np.dot(a1,W2) + b2\n",
    "        a2 = np.tanh(z2)\n",
    "        \n",
    "        z3 = np.dot(a2,W3) + b3\n",
    "        y_ = softmax(z3)\n",
    "        \n",
    "        # Store the layer wise output for backprop later\n",
    "        self.activations = (a1,a2,y_)\n",
    "        return y_\n",
    "    \n",
    "    def backward(self,x,y,learning_rate=0.01):\n",
    "        W1,W2,W3 = self.model['W1'],self.model['W2'],self.model['W3']\n",
    "        b1,b2,b3 = self.model['b1'],self.model['b2'],self.model['b3']\n",
    "        a1,a2,y_ = self.activations\n",
    "        \n",
    "        # First Step\n",
    "        d3 = (y_ - y)\n",
    "        dw3 = np.dot(a2.T,d3)\n",
    "        db3 = np.sum(d3,axis=0)\n",
    "        \n",
    "        # Second Step\n",
    "        d2 = np.dot(d3,W3.T)*(1-np.square(a2))\n",
    "        dw2 = np.dot(a1.T,d2)\n",
    "        db2 = np.sum(d2,axis=0)\n",
    "        \n",
    "        # Third Step\n",
    "        d1 = np.dot(d2,W2.T)*(1-np.square(a1))\n",
    "        dw1 = np.dot(x.T,d1)\n",
    "        db1 = np.sum(d1,axis=0)\n",
    "        \n",
    "        # Gradient Descent \n",
    "        self.model['W1'] -= learning_rate*dw1\n",
    "        self.model['W2'] -= learning_rate*dw2\n",
    "        self.model['W3'] -= learning_rate*dw3\n",
    "        self.model['b1'] -= learning_rate*db1\n",
    "        self.model['b2'] -= learning_rate*db2\n",
    "        self.model['b3'] -= learning_rate*db3\n",
    "    \n",
    "    def predict(self,x):\n",
    "        out = self.forward(x)\n",
    "        return np.argmax(out,axis=1)\n"
   ]
  },
  {
   "cell_type": "code",
   "execution_count": 119,
   "metadata": {},
   "outputs": [],
   "source": [
    "from keras.utils import to_categorical"
   ]
  },
  {
   "cell_type": "code",
   "execution_count": 120,
   "metadata": {},
   "outputs": [],
   "source": [
    "def preprocessData(x,y):\n",
    "    return x,to_categorical(y)\n",
    "def loss(y_oht,pred):\n",
    "    l = -np.mean(y_oht*np.log(pred))\n",
    "    return l\n",
    "def getAcc(X,YOHT,model):\n",
    "    pred = model.predict(X)\n",
    "    Y = np.argmax(YOHT,axis=1)\n",
    "    cnt = np.sum(Y==pred)/Y.shape[0]\n",
    "    #print(cnt)\n",
    "    return cnt\n",
    "\n",
    "def train(X,YOHT,model,epochs):\n",
    "    \n",
    "    train_loss = []\n",
    "    \n",
    "    for i in range(epochs):\n",
    "        Y_ = model.forward(X)\n",
    "        l = loss(YOHT,Y_)\n",
    "        model.backward(X,YOHT)\n",
    "        if (i%5==0):\n",
    "            acc = getAcc(X,YOHT,model)\n",
    "            print(\"Epoch %d Loss %.2f Acc %.2f\"%(i+1,l,acc))\n",
    "            \n",
    "    "
   ]
  },
  {
   "cell_type": "code",
   "execution_count": 121,
   "metadata": {},
   "outputs": [],
   "source": [
    "model = NeuralNetwork(2,layers,output_size)"
   ]
  },
  {
   "cell_type": "code",
   "execution_count": 122,
   "metadata": {},
   "outputs": [],
   "source": [
    "YOHT = to_categorical(Y)"
   ]
  },
  {
   "cell_type": "code",
   "execution_count": 123,
   "metadata": {},
   "outputs": [
    {
     "data": {
      "text/plain": [
       "(4, 2)"
      ]
     },
     "execution_count": 123,
     "metadata": {},
     "output_type": "execute_result"
    }
   ],
   "source": [
    "YOHT.shape"
   ]
  },
  {
   "cell_type": "code",
   "execution_count": 124,
   "metadata": {},
   "outputs": [
    {
     "name": "stdout",
     "output_type": "stream",
     "text": [
      "Epoch 1 Loss 0.96 Acc 0.25\n",
      "Epoch 6 Loss 0.66 Acc 0.50\n",
      "Epoch 11 Loss 0.51 Acc 0.50\n",
      "Epoch 16 Loss 0.42 Acc 0.75\n",
      "Epoch 21 Loss 0.35 Acc 0.75\n",
      "Epoch 26 Loss 0.31 Acc 0.75\n",
      "Epoch 31 Loss 0.27 Acc 0.75\n",
      "Epoch 36 Loss 0.25 Acc 0.75\n",
      "Epoch 41 Loss 0.23 Acc 1.00\n",
      "Epoch 46 Loss 0.21 Acc 1.00\n",
      "Epoch 51 Loss 0.19 Acc 1.00\n",
      "Epoch 56 Loss 0.18 Acc 1.00\n",
      "Epoch 61 Loss 0.16 Acc 1.00\n",
      "Epoch 66 Loss 0.15 Acc 1.00\n",
      "Epoch 71 Loss 0.14 Acc 1.00\n",
      "Epoch 76 Loss 0.13 Acc 1.00\n",
      "Epoch 81 Loss 0.12 Acc 1.00\n",
      "Epoch 86 Loss 0.11 Acc 1.00\n",
      "Epoch 91 Loss 0.11 Acc 1.00\n",
      "Epoch 96 Loss 0.10 Acc 1.00\n"
     ]
    }
   ],
   "source": [
    "train(X,YOHT,model,100)"
   ]
  },
  {
   "cell_type": "code",
   "execution_count": 125,
   "metadata": {},
   "outputs": [
    {
     "data": {
      "image/png": "[encoded data removed]",
      "text/plain": [
       "<Figure size 576x396 with 1 Axes>"
      ]
     },
     "metadata": {},
     "output_type": "display_data"
    }
   ],
   "source": [
    "plot_decision_boundary(lambda x:model.predict(x),X,Y)"
   ]
  },
  {
   "cell_type": "code",
   "execution_count": null,
   "metadata": {},
   "outputs": [],
   "source": []
  },
  {
   "cell_type": "code",
   "execution_count": null,
   "metadata": {},
   "outputs": [],
   "source": []
  }
 ],
 "metadata": {
  "kernelspec": {
   "display_name": "Python 3",
   "language": "python",
   "name": "python3"
  },
  "language_info": {
   "codemirror_mode": {
    "name": "ipython",
    "version": 3
   },
   "file_extension": ".py",
   "mimetype": "text/x-python",
   "name": "python",
   "nbconvert_exporter": "python",
   "pygments_lexer": "ipython3",
   "version": "3.7.3"
  }
 },
 "nbformat": 4,
 "nbformat_minor": 2
}
