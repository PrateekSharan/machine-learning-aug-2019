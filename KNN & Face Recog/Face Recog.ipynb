{
 "cells": [
  {
   "cell_type": "code",
   "execution_count": 3,
   "metadata": {},
   "outputs": [],
   "source": [
    "import os \n",
    "import numpy as np"
   ]
  },
  {
   "cell_type": "code",
   "execution_count": 4,
   "metadata": {},
   "outputs": [
    {
     "data": {
      "text/plain": [
       "['nobel.npy', 'prateek.npy']"
      ]
     },
     "execution_count": 4,
     "metadata": {},
     "output_type": "execute_result"
    }
   ],
   "source": [
    "os.listdir(\"data\")"
   ]
  },
  {
   "cell_type": "code",
   "execution_count": 5,
   "metadata": {},
   "outputs": [],
   "source": [
    "X = None\n",
    "Y = None\n",
    "d = {}\n",
    "cnt = 0\n",
    "\n",
    "for f in os.listdir(\"data\"):\n",
    "    data = np.load(\"data/\"+f)\n",
    "    \n",
    "    d[cnt] = f[:-4]\n",
    "    if X is None:\n",
    "        X = data\n",
    "        labels = np.ones((data.shape[0],))*cnt\n",
    "        cnt += 1\n",
    "        Y = labels        \n",
    "    else:\n",
    "        X = np.vstack((X,data))\n",
    "        labels = np.ones((data.shape[0],))*cnt\n",
    "        cnt += 1\n",
    "        Y = np.hstack((Y,labels))\n",
    "    \n"
   ]
  },
  {
   "cell_type": "code",
   "execution_count": 6,
   "metadata": {},
   "outputs": [],
   "source": [
    "def dist(a1,a2):\n",
    "    return np.sum((a1-a2)**2)**.5\n",
    "\n",
    "def knn(X,Y,test_point,k=5):\n",
    "    \n",
    "    d = []\n",
    "    m = X.shape[0]\n",
    "    for i in range(m):\n",
    "        dis = dist(test_point,X[i])\n",
    "        d.append((dis,Y[i]))\n",
    "    \n",
    "    d.sort()\n",
    "    d = np.array(d[:k])[:,1]\n",
    "    uniq,freq = np.unique(d,return_counts=True)\n",
    "    idx = np.argmax(freq)\n",
    "    label = uniq[idx]\n",
    "    \n",
    "    return int(label)"
   ]
  },
  {
   "cell_type": "code",
   "execution_count": 10,
   "metadata": {},
   "outputs": [],
   "source": [
    "import cv2\n",
    "import numpy as np\n",
    "\n",
    "camera = cv2.VideoCapture(0)\n",
    "face_detector = cv2.CascadeClassifier('haarcascade_frontalface_alt.xml')\n",
    "\n",
    "while True:\n",
    "    ret,img = camera.read()\n",
    "\n",
    "    if ret==False:\n",
    "        continue\n",
    "    faces= face_detector.detectMultiScale(img,1.3,5)\n",
    "\n",
    "    if(len(faces)==0):\n",
    "        print(\"0 face detected\")\n",
    "        continue\n",
    "\n",
    "    x,y,w,h = faces[0]\n",
    "    cv2.rectangle(img,(x,y),(x+w,y+h),(0,255,0),5)\n",
    "    cropped_face = img[y:y+h,x:x+w]\n",
    "    cropped_face = cv2.resize(cropped_face,(100,100))\n",
    "\n",
    "    \n",
    "    key = cv2.waitKey(1) & 0xFF\n",
    "    if key==ord('q'):\n",
    "        break\n",
    "\n",
    "    #Prediction\n",
    "    pred = knn(X,Y,cropped_face)\n",
    "    name = d[pred]\n",
    "    font = cv2.FONT_HERSHEY_SIMPLEX\n",
    "    cv2.putText(img,name,(x,y-10), font,2,(255,255,255),2,cv2.LINE_AA)\n",
    "    \n",
    "    cv2.imshow(\"Title\",img)\n",
    "    \n",
    "\n",
    "\n",
    "camera.release()\n",
    "cv2.destroyAllWindows()\n",
    "\n",
    "\n",
    "\n"
   ]
  },
  {
   "cell_type": "code",
   "execution_count": null,
   "metadata": {},
   "outputs": [],
   "source": []
  },
  {
   "cell_type": "code",
   "execution_count": null,
   "metadata": {},
   "outputs": [],
   "source": []
  }
 ],
 "metadata": {
  "kernelspec": {
   "display_name": "Python 3",
   "language": "python",
   "name": "python3"
  },
  "language_info": {
   "codemirror_mode": {
    "name": "ipython",
    "version": 3
   },
   "file_extension": ".py",
   "mimetype": "text/x-python",
   "name": "python",
   "nbconvert_exporter": "python",
   "pygments_lexer": "ipython3",
   "version": "3.7.3"
  }
 },
 "nbformat": 4,
 "nbformat_minor": 2
}
